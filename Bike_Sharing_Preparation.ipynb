{
 "cells": [
  {
   "cell_type": "code",
   "execution_count": 1,
   "id": "a95b2b65-cbe7-4b9d-804a-bd8e2b064e67",
   "metadata": {},
   "outputs": [
    {
     "ename": "SyntaxError",
     "evalue": "invalid syntax (59507378.py, line 1)",
     "output_type": "error",
     "traceback": [
      "\u001b[0;36m  Cell \u001b[0;32mIn[1], line 1\u001b[0;36m\u001b[0m\n\u001b[0;31m    Bike Sharing Data Set Preparation\u001b[0m\n\u001b[0m         ^\u001b[0m\n\u001b[0;31mSyntaxError\u001b[0m\u001b[0;31m:\u001b[0m invalid syntax\n"
     ]
    }
   ],
   "source": [
    "Bike Sharing Data Set Preparation"
   ]
  },
  {
   "cell_type": "code",
   "execution_count": null,
   "id": "bbb8e581-eab9-46e6-9312-7b4abaf98e3d",
   "metadata": {},
   "outputs": [],
   "source": [
    "# Import dataset"
   ]
  },
  {
   "cell_type": "code",
   "execution_count": null,
   "id": "2a143f36-b119-41ec-818d-e70fbff581e7",
   "metadata": {},
   "outputs": [],
   "source": [
    "import pandas as pd\n",
    "import openpyxl\n",
    "bikes = pd.read_csv('london_merged.csv')"
   ]
  },
  {
   "cell_type": "code",
   "execution_count": null,
   "id": "846cce03-cce1-4fed-bdc6-8c968079039f",
   "metadata": {},
   "outputs": [],
   "source": [
    "# Inspect structure of dataframe"
   ]
  },
  {
   "cell_type": "code",
   "execution_count": null,
   "id": "f393527b-2138-4978-bc4c-1d4e73483717",
   "metadata": {},
   "outputs": [],
   "source": [
    "bikes.info()\n",
    "print (bikes.shape)\n",
    "bikes.head()"
   ]
  },
  {
   "cell_type": "code",
   "execution_count": null,
   "id": "31324b2b-bc91-4df2-b250-9b4fdc85a30f",
   "metadata": {},
   "outputs": [],
   "source": [
    "# Count unique values in the weather_code column"
   ]
  },
  {
   "cell_type": "code",
   "execution_count": null,
   "id": "7c009754-1474-4827-83ef-bd505effbc45",
   "metadata": {},
   "outputs": [],
   "source": [
    "print (bikes.weather_code.value_counts())"
   ]
  },
  {
   "cell_type": "code",
   "execution_count": null,
   "id": "27e2fa9d-7a23-49fd-a16d-4a7459f05a6f",
   "metadata": {},
   "outputs": [],
   "source": [
    "# Count unique value in he season column"
   ]
  },
  {
   "cell_type": "code",
   "execution_count": null,
   "id": "a15b3d6c-6d63-4a46-852b-6cd2aab3e838",
   "metadata": {},
   "outputs": [],
   "source": [
    "print(bikes.season.value_counts())"
   ]
  },
  {
   "cell_type": "code",
   "execution_count": null,
   "id": "2c3a2941-8faa-44ef-a76b-5721f9f12089",
   "metadata": {},
   "outputs": [],
   "source": [
    "# Rename columns and verify"
   ]
  },
  {
   "cell_type": "code",
   "execution_count": null,
   "id": "5f5f9669-99dc-4542-8e3e-1adb89cc63a3",
   "metadata": {},
   "outputs": [],
   "source": [
    "bikes.rename(columns = {\n",
    "    'timestamp': 'time',\n",
    "    'cnt': 'count',\n",
    "    't1': 'temp_real_C',\n",
    "    't2': 'temp_feels_like_C',\n",
    "    'hum': 'humidity_percent',\n",
    "    'wind_speed': 'wind_speed_kph',\n",
    "    'weather_code': 'weather'}, inplace = True)\n",
    "\n",
    "print(bikes.columns)"
   ]
  },
  {
   "cell_type": "code",
   "execution_count": null,
   "id": "210a5a36-6901-4603-9a2d-294298740ae6",
   "metadata": {},
   "outputs": [],
   "source": [
    "#Change humidity values to percentage and verify"
   ]
  },
  {
   "cell_type": "code",
   "execution_count": null,
   "id": "f4b0c6b6-8cbd-413c-be7b-d9c26e824d2f",
   "metadata": {},
   "outputs": [],
   "source": [
    "bikes.humidity_percent = bikes.humidity_percent / 100\n",
    "print (bikes['humidity_percent'])"
   ]
  },
  {
   "cell_type": "code",
   "execution_count": null,
   "id": "55b43c44-3d7e-4210-8b27-e890c5e6e2d8",
   "metadata": {},
   "outputs": [],
   "source": [
    "#Creating a season dictionay, mapping, and verifying integers replaced with written values."
   ]
  },
  {
   "cell_type": "code",
   "execution_count": null,
   "id": "9e42ea96-8640-42e2-9e43-fb353178e83a",
   "metadata": {},
   "outputs": [],
   "source": [
    "season_dict = {\n",
    "    '0.0': 'spring',\n",
    "    '1.0': 'summer',\n",
    "    '2.0': 'autumm',\n",
    "    '3.0': 'winter'}\n",
    "bikes.season = bikes.season.astype('str')\n",
    "bikes.season = bikes.season.map(season_dict)\n",
    "print(bikes['season'])"
   ]
  },
  {
   "cell_type": "code",
   "execution_count": null,
   "id": "6495989e-3756-4a18-8fcf-c53c643c480f",
   "metadata": {},
   "outputs": [],
   "source": [
    "#Creating a weather dictionay, mapping, and verifying integers replaced with written values."
   ]
  },
  {
   "cell_type": "code",
   "execution_count": null,
   "id": "70a284a8-8cb1-44e0-86a4-eea14a2ca07e",
   "metadata": {},
   "outputs": [],
   "source": [
    "weather_dict = {\n",
    "    '1.0': 'Clear',\n",
    "    '2.0': 'Scatter clouds',\n",
    "    '3.0': 'Broken clouds',\n",
    "    '4.0': 'Cloudy',\n",
    "    '7.0': 'Rain',\n",
    "    '10.0': 'Rain with thunderstorm',\n",
    "    '26.0': 'Snowfall'}\n",
    "bikes.weather = bikes.weather.astype('str')\n",
    "bikes.weather = bikes.weather.map(weather_dict)\n",
    "print(bikes['weather'])"
   ]
  },
  {
   "cell_type": "code",
   "execution_count": null,
   "id": "ca3209ac-7b9e-40ce-a433-84a4c218c227",
   "metadata": {},
   "outputs": [],
   "source": [
    "# Inspect final dataframe"
   ]
  },
  {
   "cell_type": "code",
   "execution_count": null,
   "id": "19390046-fe36-4073-b8a3-8a98be1a1939",
   "metadata": {},
   "outputs": [],
   "source": [
    "bikes.head()"
   ]
  },
  {
   "cell_type": "code",
   "execution_count": null,
   "id": "2585974c-263d-4131-a753-2a079f028652",
   "metadata": {},
   "outputs": [],
   "source": [
    "# Write final dataframe to exile file for Tableau visualizations named 'london_bikes_final'"
   ]
  },
  {
   "cell_type": "code",
   "execution_count": null,
   "id": "14d80e89-0b2e-4d90-831d-3b74b6336606",
   "metadata": {},
   "outputs": [],
   "source": [
    "bikes.to_excel('london_bikes_final.xlsx', sheet_name = 'Data')"
   ]
  }
 ],
 "metadata": {
  "kernelspec": {
   "display_name": "anaconda-panel-2023.05-py310",
   "language": "python",
   "name": "conda-env-anaconda-panel-2023.05-py310-py"
  },
  "language_info": {
   "codemirror_mode": {
    "name": "ipython",
    "version": 3
   },
   "file_extension": ".py",
   "mimetype": "text/x-python",
   "name": "python",
   "nbconvert_exporter": "python",
   "pygments_lexer": "ipython3",
   "version": "3.11.5"
  }
 },
 "nbformat": 4,
 "nbformat_minor": 5
}
