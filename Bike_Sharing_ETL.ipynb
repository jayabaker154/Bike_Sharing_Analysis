{
 "cells": [
  {
   "cell_type": "code",
   "execution_count": 1,
   "id": "bbb8e581-eab9-46e6-9312-7b4abaf98e3d",
   "metadata": {},
   "outputs": [],
   "source": [
    "# Import dataset"
   ]
  },
  {
   "cell_type": "code",
   "execution_count": 2,
   "id": "2a143f36-b119-41ec-818d-e70fbff581e7",
   "metadata": {},
   "outputs": [],
   "source": [
    "import pandas as pd\n",
    "import openpyxl\n",
    "bikes = pd.read_csv('london_merged.csv')"
   ]
  },
  {
   "cell_type": "code",
   "execution_count": 3,
   "id": "846cce03-cce1-4fed-bdc6-8c968079039f",
   "metadata": {},
   "outputs": [],
   "source": [
    "# Inspect structure of dataframe"
   ]
  },
  {
   "cell_type": "code",
   "execution_count": 4,
   "id": "f393527b-2138-4978-bc4c-1d4e73483717",
   "metadata": {},
   "outputs": [
    {
     "name": "stdout",
     "output_type": "stream",
     "text": [
      "<class 'pandas.core.frame.DataFrame'>\n",
      "RangeIndex: 17414 entries, 0 to 17413\n",
      "Data columns (total 10 columns):\n",
      " #   Column        Non-Null Count  Dtype  \n",
      "---  ------        --------------  -----  \n",
      " 0   timestamp     17414 non-null  object \n",
      " 1   cnt           17414 non-null  int64  \n",
      " 2   t1            17414 non-null  float64\n",
      " 3   t2            17414 non-null  float64\n",
      " 4   hum           17414 non-null  float64\n",
      " 5   wind_speed    17414 non-null  float64\n",
      " 6   weather_code  17414 non-null  float64\n",
      " 7   is_holiday    17414 non-null  float64\n",
      " 8   is_weekend    17414 non-null  float64\n",
      " 9   season        17414 non-null  float64\n",
      "dtypes: float64(8), int64(1), object(1)\n",
      "memory usage: 1.3+ MB\n",
      "(17414, 10)\n"
     ]
    },
    {
     "data": {
      "text/html": [
       "<div>\n",
       "<style scoped>\n",
       "    .dataframe tbody tr th:only-of-type {\n",
       "        vertical-align: middle;\n",
       "    }\n",
       "\n",
       "    .dataframe tbody tr th {\n",
       "        vertical-align: top;\n",
       "    }\n",
       "\n",
       "    .dataframe thead th {\n",
       "        text-align: right;\n",
       "    }\n",
       "</style>\n",
       "<table border=\"1\" class=\"dataframe\">\n",
       "  <thead>\n",
       "    <tr style=\"text-align: right;\">\n",
       "      <th></th>\n",
       "      <th>timestamp</th>\n",
       "      <th>cnt</th>\n",
       "      <th>t1</th>\n",
       "      <th>t2</th>\n",
       "      <th>hum</th>\n",
       "      <th>wind_speed</th>\n",
       "      <th>weather_code</th>\n",
       "      <th>is_holiday</th>\n",
       "      <th>is_weekend</th>\n",
       "      <th>season</th>\n",
       "    </tr>\n",
       "  </thead>\n",
       "  <tbody>\n",
       "    <tr>\n",
       "      <th>0</th>\n",
       "      <td>2015-01-04 00:00:00</td>\n",
       "      <td>182</td>\n",
       "      <td>3.0</td>\n",
       "      <td>2.0</td>\n",
       "      <td>93.0</td>\n",
       "      <td>6.0</td>\n",
       "      <td>3.0</td>\n",
       "      <td>0.0</td>\n",
       "      <td>1.0</td>\n",
       "      <td>3.0</td>\n",
       "    </tr>\n",
       "    <tr>\n",
       "      <th>1</th>\n",
       "      <td>2015-01-04 01:00:00</td>\n",
       "      <td>138</td>\n",
       "      <td>3.0</td>\n",
       "      <td>2.5</td>\n",
       "      <td>93.0</td>\n",
       "      <td>5.0</td>\n",
       "      <td>1.0</td>\n",
       "      <td>0.0</td>\n",
       "      <td>1.0</td>\n",
       "      <td>3.0</td>\n",
       "    </tr>\n",
       "    <tr>\n",
       "      <th>2</th>\n",
       "      <td>2015-01-04 02:00:00</td>\n",
       "      <td>134</td>\n",
       "      <td>2.5</td>\n",
       "      <td>2.5</td>\n",
       "      <td>96.5</td>\n",
       "      <td>0.0</td>\n",
       "      <td>1.0</td>\n",
       "      <td>0.0</td>\n",
       "      <td>1.0</td>\n",
       "      <td>3.0</td>\n",
       "    </tr>\n",
       "    <tr>\n",
       "      <th>3</th>\n",
       "      <td>2015-01-04 03:00:00</td>\n",
       "      <td>72</td>\n",
       "      <td>2.0</td>\n",
       "      <td>2.0</td>\n",
       "      <td>100.0</td>\n",
       "      <td>0.0</td>\n",
       "      <td>1.0</td>\n",
       "      <td>0.0</td>\n",
       "      <td>1.0</td>\n",
       "      <td>3.0</td>\n",
       "    </tr>\n",
       "    <tr>\n",
       "      <th>4</th>\n",
       "      <td>2015-01-04 04:00:00</td>\n",
       "      <td>47</td>\n",
       "      <td>2.0</td>\n",
       "      <td>0.0</td>\n",
       "      <td>93.0</td>\n",
       "      <td>6.5</td>\n",
       "      <td>1.0</td>\n",
       "      <td>0.0</td>\n",
       "      <td>1.0</td>\n",
       "      <td>3.0</td>\n",
       "    </tr>\n",
       "  </tbody>\n",
       "</table>\n",
       "</div>"
      ],
      "text/plain": [
       "             timestamp  cnt   t1   t2    hum  wind_speed  weather_code  \\\n",
       "0  2015-01-04 00:00:00  182  3.0  2.0   93.0         6.0           3.0   \n",
       "1  2015-01-04 01:00:00  138  3.0  2.5   93.0         5.0           1.0   \n",
       "2  2015-01-04 02:00:00  134  2.5  2.5   96.5         0.0           1.0   \n",
       "3  2015-01-04 03:00:00   72  2.0  2.0  100.0         0.0           1.0   \n",
       "4  2015-01-04 04:00:00   47  2.0  0.0   93.0         6.5           1.0   \n",
       "\n",
       "   is_holiday  is_weekend  season  \n",
       "0         0.0         1.0     3.0  \n",
       "1         0.0         1.0     3.0  \n",
       "2         0.0         1.0     3.0  \n",
       "3         0.0         1.0     3.0  \n",
       "4         0.0         1.0     3.0  "
      ]
     },
     "execution_count": 4,
     "metadata": {},
     "output_type": "execute_result"
    }
   ],
   "source": [
    "bikes.info()\n",
    "print (bikes.shape)\n",
    "bikes.head()"
   ]
  },
  {
   "cell_type": "code",
   "execution_count": 5,
   "id": "31324b2b-bc91-4df2-b250-9b4fdc85a30f",
   "metadata": {},
   "outputs": [],
   "source": [
    "# Count unique values in the weather_code column"
   ]
  },
  {
   "cell_type": "code",
   "execution_count": 6,
   "id": "7c009754-1474-4827-83ef-bd505effbc45",
   "metadata": {},
   "outputs": [
    {
     "name": "stdout",
     "output_type": "stream",
     "text": [
      "weather_code\n",
      "1.0     6150\n",
      "2.0     4034\n",
      "3.0     3551\n",
      "7.0     2141\n",
      "4.0     1464\n",
      "26.0      60\n",
      "10.0      14\n",
      "Name: count, dtype: int64\n"
     ]
    }
   ],
   "source": [
    "print (bikes.weather_code.value_counts())"
   ]
  },
  {
   "cell_type": "code",
   "execution_count": 7,
   "id": "27e2fa9d-7a23-49fd-a16d-4a7459f05a6f",
   "metadata": {},
   "outputs": [],
   "source": [
    "# Count unique value in he season column"
   ]
  },
  {
   "cell_type": "code",
   "execution_count": 8,
   "id": "a15b3d6c-6d63-4a46-852b-6cd2aab3e838",
   "metadata": {},
   "outputs": [
    {
     "name": "stdout",
     "output_type": "stream",
     "text": [
      "season\n",
      "0.0    4394\n",
      "1.0    4387\n",
      "3.0    4330\n",
      "2.0    4303\n",
      "Name: count, dtype: int64\n"
     ]
    }
   ],
   "source": [
    "print(bikes.season.value_counts())"
   ]
  },
  {
   "cell_type": "code",
   "execution_count": 9,
   "id": "2c3a2941-8faa-44ef-a76b-5721f9f12089",
   "metadata": {},
   "outputs": [],
   "source": [
    "# Rename columns and verify"
   ]
  },
  {
   "cell_type": "code",
   "execution_count": 10,
   "id": "5f5f9669-99dc-4542-8e3e-1adb89cc63a3",
   "metadata": {},
   "outputs": [
    {
     "name": "stdout",
     "output_type": "stream",
     "text": [
      "Index(['time', 'count', 'temp_real_C', 'temp_feels_like_C', 'humidity_percent',\n",
      "       'wind_speed_kph', 'weather', 'is_holiday', 'is_weekend', 'season'],\n",
      "      dtype='object')\n"
     ]
    }
   ],
   "source": [
    "bikes.rename(columns = {\n",
    "    'timestamp': 'time',\n",
    "    'cnt': 'count',\n",
    "    't1': 'temp_real_C',\n",
    "    't2': 'temp_feels_like_C',\n",
    "    'hum': 'humidity_percent',\n",
    "    'wind_speed': 'wind_speed_kph',\n",
    "    'weather_code': 'weather'}, inplace = True)\n",
    "\n",
    "print(bikes.columns)"
   ]
  },
  {
   "cell_type": "code",
   "execution_count": 11,
   "id": "210a5a36-6901-4603-9a2d-294298740ae6",
   "metadata": {},
   "outputs": [],
   "source": [
    "#Change humidity values to percentage and verify"
   ]
  },
  {
   "cell_type": "code",
   "execution_count": 12,
   "id": "f4b0c6b6-8cbd-413c-be7b-d9c26e824d2f",
   "metadata": {},
   "outputs": [
    {
     "name": "stdout",
     "output_type": "stream",
     "text": [
      "0        0.930\n",
      "1        0.930\n",
      "2        0.965\n",
      "3        1.000\n",
      "4        0.930\n",
      "         ...  \n",
      "17409    0.810\n",
      "17410    0.810\n",
      "17411    0.785\n",
      "17412    0.760\n",
      "17413    0.760\n",
      "Name: humidity_percent, Length: 17414, dtype: float64\n"
     ]
    }
   ],
   "source": [
    "bikes.humidity_percent = bikes.humidity_percent / 100\n",
    "print (bikes['humidity_percent'])"
   ]
  },
  {
   "cell_type": "code",
   "execution_count": 13,
   "id": "55b43c44-3d7e-4210-8b27-e890c5e6e2d8",
   "metadata": {},
   "outputs": [],
   "source": [
    "#Creating a season dictionay, mapping, and verifying integers replaced with written values."
   ]
  },
  {
   "cell_type": "code",
   "execution_count": 14,
   "id": "9e42ea96-8640-42e2-9e43-fb353178e83a",
   "metadata": {},
   "outputs": [
    {
     "name": "stdout",
     "output_type": "stream",
     "text": [
      "0        winter\n",
      "1        winter\n",
      "2        winter\n",
      "3        winter\n",
      "4        winter\n",
      "          ...  \n",
      "17409    winter\n",
      "17410    winter\n",
      "17411    winter\n",
      "17412    winter\n",
      "17413    winter\n",
      "Name: season, Length: 17414, dtype: object\n"
     ]
    }
   ],
   "source": [
    "season_dict = {\n",
    "    '0.0': 'spring',\n",
    "    '1.0': 'summer',\n",
    "    '2.0': 'autumm',\n",
    "    '3.0': 'winter'}\n",
    "bikes.season = bikes.season.astype('str')\n",
    "bikes.season = bikes.season.map(season_dict)\n",
    "print(bikes['season'])"
   ]
  },
  {
   "cell_type": "code",
   "execution_count": 15,
   "id": "6495989e-3756-4a18-8fcf-c53c643c480f",
   "metadata": {},
   "outputs": [],
   "source": [
    "#Creating a weather dictionay, mapping, and verifying integers replaced with written values."
   ]
  },
  {
   "cell_type": "code",
   "execution_count": 16,
   "id": "70a284a8-8cb1-44e0-86a4-eea14a2ca07e",
   "metadata": {},
   "outputs": [
    {
     "name": "stdout",
     "output_type": "stream",
     "text": [
      "0         Broken clouds\n",
      "1                 Clear\n",
      "2                 Clear\n",
      "3                 Clear\n",
      "4                 Clear\n",
      "              ...      \n",
      "17409     Broken clouds\n",
      "17410            Cloudy\n",
      "17411            Cloudy\n",
      "17412            Cloudy\n",
      "17413    Scatter clouds\n",
      "Name: weather, Length: 17414, dtype: object\n"
     ]
    }
   ],
   "source": [
    "weather_dict = {\n",
    "    '1.0': 'Clear',\n",
    "    '2.0': 'Scatter clouds',\n",
    "    '3.0': 'Broken clouds',\n",
    "    '4.0': 'Cloudy',\n",
    "    '7.0': 'Rain',\n",
    "    '10.0': 'Rain with thunderstorm',\n",
    "    '26.0': 'Snowfall'}\n",
    "bikes.weather = bikes.weather.astype('str')\n",
    "bikes.weather = bikes.weather.map(weather_dict)\n",
    "print(bikes['weather'])"
   ]
  },
  {
   "cell_type": "code",
   "execution_count": 17,
   "id": "ca3209ac-7b9e-40ce-a433-84a4c218c227",
   "metadata": {},
   "outputs": [],
   "source": [
    "# Inspect final dataframe"
   ]
  },
  {
   "cell_type": "code",
   "execution_count": 18,
   "id": "19390046-fe36-4073-b8a3-8a98be1a1939",
   "metadata": {},
   "outputs": [
    {
     "data": {
      "text/html": [
       "<div>\n",
       "<style scoped>\n",
       "    .dataframe tbody tr th:only-of-type {\n",
       "        vertical-align: middle;\n",
       "    }\n",
       "\n",
       "    .dataframe tbody tr th {\n",
       "        vertical-align: top;\n",
       "    }\n",
       "\n",
       "    .dataframe thead th {\n",
       "        text-align: right;\n",
       "    }\n",
       "</style>\n",
       "<table border=\"1\" class=\"dataframe\">\n",
       "  <thead>\n",
       "    <tr style=\"text-align: right;\">\n",
       "      <th></th>\n",
       "      <th>time</th>\n",
       "      <th>count</th>\n",
       "      <th>temp_real_C</th>\n",
       "      <th>temp_feels_like_C</th>\n",
       "      <th>humidity_percent</th>\n",
       "      <th>wind_speed_kph</th>\n",
       "      <th>weather</th>\n",
       "      <th>is_holiday</th>\n",
       "      <th>is_weekend</th>\n",
       "      <th>season</th>\n",
       "    </tr>\n",
       "  </thead>\n",
       "  <tbody>\n",
       "    <tr>\n",
       "      <th>0</th>\n",
       "      <td>2015-01-04 00:00:00</td>\n",
       "      <td>182</td>\n",
       "      <td>3.0</td>\n",
       "      <td>2.0</td>\n",
       "      <td>0.930</td>\n",
       "      <td>6.0</td>\n",
       "      <td>Broken clouds</td>\n",
       "      <td>0.0</td>\n",
       "      <td>1.0</td>\n",
       "      <td>winter</td>\n",
       "    </tr>\n",
       "    <tr>\n",
       "      <th>1</th>\n",
       "      <td>2015-01-04 01:00:00</td>\n",
       "      <td>138</td>\n",
       "      <td>3.0</td>\n",
       "      <td>2.5</td>\n",
       "      <td>0.930</td>\n",
       "      <td>5.0</td>\n",
       "      <td>Clear</td>\n",
       "      <td>0.0</td>\n",
       "      <td>1.0</td>\n",
       "      <td>winter</td>\n",
       "    </tr>\n",
       "    <tr>\n",
       "      <th>2</th>\n",
       "      <td>2015-01-04 02:00:00</td>\n",
       "      <td>134</td>\n",
       "      <td>2.5</td>\n",
       "      <td>2.5</td>\n",
       "      <td>0.965</td>\n",
       "      <td>0.0</td>\n",
       "      <td>Clear</td>\n",
       "      <td>0.0</td>\n",
       "      <td>1.0</td>\n",
       "      <td>winter</td>\n",
       "    </tr>\n",
       "    <tr>\n",
       "      <th>3</th>\n",
       "      <td>2015-01-04 03:00:00</td>\n",
       "      <td>72</td>\n",
       "      <td>2.0</td>\n",
       "      <td>2.0</td>\n",
       "      <td>1.000</td>\n",
       "      <td>0.0</td>\n",
       "      <td>Clear</td>\n",
       "      <td>0.0</td>\n",
       "      <td>1.0</td>\n",
       "      <td>winter</td>\n",
       "    </tr>\n",
       "    <tr>\n",
       "      <th>4</th>\n",
       "      <td>2015-01-04 04:00:00</td>\n",
       "      <td>47</td>\n",
       "      <td>2.0</td>\n",
       "      <td>0.0</td>\n",
       "      <td>0.930</td>\n",
       "      <td>6.5</td>\n",
       "      <td>Clear</td>\n",
       "      <td>0.0</td>\n",
       "      <td>1.0</td>\n",
       "      <td>winter</td>\n",
       "    </tr>\n",
       "  </tbody>\n",
       "</table>\n",
       "</div>"
      ],
      "text/plain": [
       "                  time  count  temp_real_C  temp_feels_like_C  \\\n",
       "0  2015-01-04 00:00:00    182          3.0                2.0   \n",
       "1  2015-01-04 01:00:00    138          3.0                2.5   \n",
       "2  2015-01-04 02:00:00    134          2.5                2.5   \n",
       "3  2015-01-04 03:00:00     72          2.0                2.0   \n",
       "4  2015-01-04 04:00:00     47          2.0                0.0   \n",
       "\n",
       "   humidity_percent  wind_speed_kph        weather  is_holiday  is_weekend  \\\n",
       "0             0.930             6.0  Broken clouds         0.0         1.0   \n",
       "1             0.930             5.0          Clear         0.0         1.0   \n",
       "2             0.965             0.0          Clear         0.0         1.0   \n",
       "3             1.000             0.0          Clear         0.0         1.0   \n",
       "4             0.930             6.5          Clear         0.0         1.0   \n",
       "\n",
       "   season  \n",
       "0  winter  \n",
       "1  winter  \n",
       "2  winter  \n",
       "3  winter  \n",
       "4  winter  "
      ]
     },
     "execution_count": 18,
     "metadata": {},
     "output_type": "execute_result"
    }
   ],
   "source": [
    "bikes.head()"
   ]
  },
  {
   "cell_type": "code",
   "execution_count": 19,
   "id": "2585974c-263d-4131-a753-2a079f028652",
   "metadata": {},
   "outputs": [],
   "source": [
    "# Write final dataframe to exile file for Tableau visualizations named 'london_bikes_final'"
   ]
  },
  {
   "cell_type": "code",
   "execution_count": 20,
   "id": "14d80e89-0b2e-4d90-831d-3b74b6336606",
   "metadata": {},
   "outputs": [],
   "source": [
    "bikes.to_excel('london_bikes_final.xlsx', sheet_name = 'Data')"
   ]
  }
 ],
 "metadata": {
  "kernelspec": {
   "display_name": "anaconda-panel-2023.05-py310",
   "language": "python",
   "name": "conda-env-anaconda-panel-2023.05-py310-py"
  },
  "language_info": {
   "codemirror_mode": {
    "name": "ipython",
    "version": 3
   },
   "file_extension": ".py",
   "mimetype": "text/x-python",
   "name": "python",
   "nbconvert_exporter": "python",
   "pygments_lexer": "ipython3",
   "version": "3.11.5"
  }
 },
 "nbformat": 4,
 "nbformat_minor": 5
}
